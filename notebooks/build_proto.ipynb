{
 "cells": [
  {
   "cell_type": "code",
   "execution_count": 10,
   "metadata": {},
   "outputs": [],
   "source": [
    "import os\n",
    "import subprocess"
   ]
  },
  {
   "cell_type": "code",
   "execution_count": 2,
   "metadata": {},
   "outputs": [],
   "source": [
    "os.chdir('j:/models/research')"
   ]
  },
  {
   "cell_type": "code",
   "execution_count": 16,
   "metadata": {},
   "outputs": [],
   "source": [
    "files = [_ for _ in os.listdir('object_detection/protos') if _.endswith('.proto')]"
   ]
  },
  {
   "cell_type": "code",
   "execution_count": 19,
   "metadata": {},
   "outputs": [
    {
     "name": "stdout",
     "output_type": "stream",
     "text": [
      "['protoc', 'object_detection/protos/anchor_generator.proto', '--python_out=.']\n",
      "['protoc', 'object_detection/protos/argmax_matcher.proto', '--python_out=.']\n",
      "['protoc', 'object_detection/protos/bipartite_matcher.proto', '--python_out=.']\n",
      "['protoc', 'object_detection/protos/box_coder.proto', '--python_out=.']\n",
      "['protoc', 'object_detection/protos/box_predictor.proto', '--python_out=.']\n",
      "['protoc', 'object_detection/protos/calibration.proto', '--python_out=.']\n",
      "['protoc', 'object_detection/protos/eval.proto', '--python_out=.']\n",
      "['protoc', 'object_detection/protos/faster_rcnn.proto', '--python_out=.']\n",
      "['protoc', 'object_detection/protos/faster_rcnn_box_coder.proto', '--python_out=.']\n",
      "['protoc', 'object_detection/protos/flexible_grid_anchor_generator.proto', '--python_out=.']\n",
      "['protoc', 'object_detection/protos/graph_rewriter.proto', '--python_out=.']\n",
      "['protoc', 'object_detection/protos/grid_anchor_generator.proto', '--python_out=.']\n",
      "['protoc', 'object_detection/protos/hyperparams.proto', '--python_out=.']\n",
      "['protoc', 'object_detection/protos/image_resizer.proto', '--python_out=.']\n",
      "['protoc', 'object_detection/protos/input_reader.proto', '--python_out=.']\n",
      "['protoc', 'object_detection/protos/keypoint_box_coder.proto', '--python_out=.']\n",
      "['protoc', 'object_detection/protos/losses.proto', '--python_out=.']\n",
      "['protoc', 'object_detection/protos/matcher.proto', '--python_out=.']\n",
      "['protoc', 'object_detection/protos/mean_stddev_box_coder.proto', '--python_out=.']\n",
      "['protoc', 'object_detection/protos/model.proto', '--python_out=.']\n",
      "['protoc', 'object_detection/protos/multiscale_anchor_generator.proto', '--python_out=.']\n",
      "['protoc', 'object_detection/protos/optimizer.proto', '--python_out=.']\n",
      "['protoc', 'object_detection/protos/pipeline.proto', '--python_out=.']\n",
      "['protoc', 'object_detection/protos/post_processing.proto', '--python_out=.']\n",
      "['protoc', 'object_detection/protos/preprocessor.proto', '--python_out=.']\n",
      "['protoc', 'object_detection/protos/region_similarity_calculator.proto', '--python_out=.']\n",
      "['protoc', 'object_detection/protos/square_box_coder.proto', '--python_out=.']\n",
      "['protoc', 'object_detection/protos/ssd.proto', '--python_out=.']\n",
      "['protoc', 'object_detection/protos/ssd_anchor_generator.proto', '--python_out=.']\n",
      "['protoc', 'object_detection/protos/string_int_label_map.proto', '--python_out=.']\n",
      "['protoc', 'object_detection/protos/train.proto', '--python_out=.']\n"
     ]
    }
   ],
   "source": [
    "for f in files:\n",
    "    cmd = ['protoc', 'object_detection/protos/' + f, '--python_out=.']\n",
    "    print(cmd)\n",
    "    subprocess.run(cmd)"
   ]
  },
  {
   "cell_type": "code",
   "execution_count": null,
   "metadata": {},
   "outputs": [],
   "source": []
  }
 ],
 "metadata": {
  "kernelspec": {
   "display_name": "Python 3",
   "language": "python",
   "name": "python3"
  },
  "language_info": {
   "codemirror_mode": {
    "name": "ipython",
    "version": 3
   },
   "file_extension": ".py",
   "mimetype": "text/x-python",
   "name": "python",
   "nbconvert_exporter": "python",
   "pygments_lexer": "ipython3",
   "version": "3.6.7"
  }
 },
 "nbformat": 4,
 "nbformat_minor": 2
}
